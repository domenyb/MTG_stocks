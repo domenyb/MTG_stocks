{
 "cells": [
  {
   "cell_type": "markdown",
   "metadata": {},
   "source": [
    "Last words: \n",
    "    \n",
    "I have managed to find a parameter set that lead to a simple True-False classifier lead buying function making profit - even though I couldn't achieve the same growth as the hand-built function. \n",
    "\n",
    "At the moment I'm satisfied with this, and at the end I discuss what directions would (or should I say will) I take to improve the project. After I finish polishing my other projects (and maybe tried myself in a few Kaggle competitions) I want to revisit this one. By then I'll have proper tournament data accumulated. "
   ]
  },
  {
   "cell_type": "markdown",
   "metadata": {},
   "source": [
    "In this notebook I intend to use the scikit-learn library to make automated trading decisions similarly to the previous notebook, except this time with no \"direct control\" over the decisions. I hope this would result in an increase in effectiveness and profits. \n",
    "\n",
    "I will compare the best approach from this notebook with the previously successful strategy. \n",
    "\n",
    "At first I would like to try two kinds of decision trees with different kinds of setups. \n",
    "\n",
    "The tree would be a classifier using the past 5 points (just to be fair to my previous assumptions) to answer a simple yes-or-no question: \"will the price be higher than today in 5 days?\". This  tree allows me to use the previous simplistic selling rule-set since the tree is either right or wrong, and we will find out in <=5 days...\n",
    "\n",
    "For latter I should also try whether the tree needs to be trained for every worthy card or only the current card in question. The latter raises the problem of constant re-training (or keeping a huge bunch of trees alive), the former introduces one important and well-known bias with decision trees that emerges when different classes (And I have already shown that the cards can be put into classes depending on their behaviour) dominate the training set.\n",
    "\n",
    "one could also argue for feeding an excessive amount of data - like a month's worth - as the input, and that could - in theory and after good training - use the early parts to classify the card for itself and once that is done use only the most recent points to make the prediction - based on the classification - but I don't think that this would worth the training nor that a decision tree would be an optimal approach here.\n",
    "\n",
    "Hm... I don't think I have anything more to say to be honest, so let's start building something"
   ]
  },
  {
   "cell_type": "code",
   "execution_count": 173,
   "metadata": {},
   "outputs": [],
   "source": [
    "import pandas as pd\n",
    "import matplotlib.pyplot as plt\n",
    "import matplotlib.dates as mdates\n",
    "import numpy as np\n",
    "from glob2 import glob\n",
    "from sklearn.tree import DecisionTreeClassifier"
   ]
  },
  {
   "cell_type": "code",
   "execution_count": 174,
   "metadata": {},
   "outputs": [],
   "source": [
    "from sklearn.model_selection import train_test_split\n",
    "from sklearn.tree import plot_tree\n",
    "from sklearn.tree import export_text"
   ]
  },
  {
   "cell_type": "code",
   "execution_count": 175,
   "metadata": {},
   "outputs": [],
   "source": [
    "univ_keys=['fair_price', 'isFoil', 'name', 'setName']#THis is probably unnecessary..."
   ]
  },
  {
   "cell_type": "code",
   "execution_count": 176,
   "metadata": {},
   "outputs": [],
   "source": [
    "#load the data - fortunately I have already prepped the training data into one csv. - and estabilish the collection.\n",
    "collection=[500, pd.DataFrame(columns=[\"name\",\"isFoil\", \"Qtty\", \"Bought_price\", \"Current_price\",\"Bought_date\" ])] # this is the object that will get passed around by every function\n",
    "#bought price is average - since that is what I need to exceed in order to sell with a profit...\n",
    "#This was at the start, but from now I will run a different one\n",
    "all_cards=pd.read_csv(\"past_data.csv\")\n",
    "all_cards.date=all_cards.date.astype('datetime64[D]')#this has to happen..."
   ]
  },
  {
   "cell_type": "markdown",
   "metadata": {},
   "source": [
    "Now let's cut all_cards into proper training data. \n",
    "At first I'll make:\n",
    "an instance of X=Data from the past 5 days+today (I know that my linear model had less to work with, but this is an advantage I'm willing to give the decision tree...) following each other.\n",
    "Y = True or False (1 or 0) depending on whether the next 5 - edit: 2 makes the tree effective enough, though this shouldn't be a surprise - days have a value higher than the current.\n",
    "I'd like to use the data before march 3rd as a training data (basically this means X will contain the data before Febr. 24th). In a more advanced model I'd \"re-train\" regularly (even if not daily, I would do it weekly/bi-weekly with the increased training pool).\n",
    "\n",
    "At first I'll train the classifier with all the data from all the cards, since that is the easiest task: I'll have a single classifier to handle all the decisions passed in its way. This could in many ways be analogous to the previous hand-built classifier, but I expect it to have less arbitrary values. Edit: But then again, it didn't _really_ know what we were looking for..."
   ]
  },
  {
   "cell_type": "code",
   "execution_count": 177,
   "metadata": {},
   "outputs": [],
   "source": [
    "#modified from notebook 3 not to have hard-coded 5 in it:\n",
    "def fill_n_prev_days(current_day,card_name, card_foil, all_cards,n ):\n",
    " #   print(type(current_day))\n",
    "    work_with=all_cards.loc[(all_cards.name==card_name) & (all_cards.isFoil==card_foil) & (all_cards.date<=current_day)]#though this last shouldn't be an issue\n",
    "    date_list=list(pd.date_range(start=current_day, periods=n, freq=\"-1D\"))#past n days - modified to include \"today\" as well\n",
    "    #this above inclusion means that I need to concat the new day's data before the decision making and not as a last step - like in the previous notebook.\n",
    "    date_list.reverse()#I want ascending order\n",
    "    prices=[]\n",
    "    for one_day in date_list:\n",
    "        if (len(work_with.loc[work_with.date<=one_day, \"fair_price\"].values)==0):\n",
    "            print(card_name+\" has some issues\")\n",
    "        prices.append(work_with.loc[work_with.date<=one_day, \"fair_price\"].values[-1])#this appends the last available price to the day. So if on that day I don't have data, thats no issue.\n",
    "    return [pd.to_datetime(date_list), prices]#works as intended"
   ]
  },
  {
   "cell_type": "code",
   "execution_count": 178,
   "metadata": {
    "scrolled": false
   },
   "outputs": [],
   "source": [
    "#exc=0\n",
    "for card_name in all_cards.name.unique():\n",
    "    for foil in all_cards[all_cards.name==card_name].isFoil.unique():\n",
    "        if all_cards[(all_cards.name==card_name)&(all_cards.isFoil==foil)].fair_price.mean()<2:\n",
    "      #      print(card_name+\" \"+str(foil) +\" excluded\")\n",
    "            all_cards=all_cards[~((all_cards.name==card_name)&(all_cards.isFoil==foil))]#I'm getting better at this\n",
    "        #    exc+=1"
   ]
  },
  {
   "cell_type": "code",
   "execution_count": 179,
   "metadata": {},
   "outputs": [
    {
     "name": "stdout",
     "output_type": "stream",
     "text": [
      "256\n"
     ]
    }
   ],
   "source": [
    "print(len(all_cards.name.unique()))#256 unique cards\n",
    "all_cards.reset_index(drop=True, inplace=True)\n"
   ]
  },
  {
   "cell_type": "code",
   "execution_count": 9,
   "metadata": {
    "scrolled": true
   },
   "outputs": [
    {
     "name": "stdout",
     "output_type": "stream",
     "text": [
      "1\n",
      "2\n",
      "3\n",
      "4\n",
      "5\n",
      "6\n",
      "7\n",
      "8\n",
      "9\n",
      "10\n",
      "11\n",
      "12\n",
      "13\n",
      "14\n",
      "15\n",
      "16\n",
      "17\n",
      "18\n",
      "19\n",
      "20\n",
      "21\n",
      "22\n",
      "23\n",
      "24\n",
      "25\n",
      "26\n",
      "27\n",
      "28\n",
      "29\n",
      "30\n",
      "31\n",
      "32\n",
      "33\n",
      "34\n",
      "35\n",
      "36\n",
      "37\n",
      "38\n",
      "39\n",
      "40\n",
      "41\n",
      "42\n",
      "43\n",
      "44\n",
      "45\n",
      "46\n",
      "47\n",
      "48\n",
      "49\n",
      "50\n",
      "51\n",
      "52\n",
      "53\n",
      "54\n",
      "55\n",
      "56\n",
      "57\n",
      "58\n",
      "59\n",
      "60\n",
      "61\n",
      "62\n",
      "63\n",
      "64\n",
      "65\n",
      "66\n",
      "67\n",
      "68\n",
      "69\n",
      "70\n",
      "71\n",
      "72\n",
      "73\n",
      "74\n",
      "75\n",
      "76\n",
      "77\n",
      "78\n",
      "79\n",
      "80\n",
      "81\n",
      "82\n",
      "83\n",
      "84\n",
      "85\n",
      "86\n",
      "87\n",
      "88\n",
      "89\n",
      "90\n",
      "91\n",
      "92\n",
      "93\n",
      "94\n",
      "95\n",
      "96\n",
      "97\n",
      "98\n",
      "99\n",
      "100\n",
      "101\n",
      "102\n",
      "103\n",
      "104\n",
      "105\n",
      "106\n",
      "107\n",
      "108\n",
      "109\n",
      "110\n",
      "111\n",
      "112\n",
      "113\n",
      "114\n",
      "115\n",
      "116\n",
      "117\n",
      "118\n",
      "119\n",
      "120\n",
      "121\n",
      "122\n",
      "123\n",
      "124\n",
      "125\n",
      "126\n",
      "127\n",
      "128\n",
      "129\n",
      "130\n",
      "131\n",
      "132\n",
      "133\n",
      "134\n",
      "135\n",
      "136\n",
      "137\n",
      "138\n",
      "139\n",
      "140\n",
      "141\n",
      "142\n",
      "143\n",
      "144\n",
      "145\n",
      "146\n",
      "147\n",
      "148\n",
      "149\n",
      "150\n",
      "151\n",
      "152\n",
      "153\n",
      "154\n",
      "155\n",
      "156\n",
      "157\n",
      "158\n",
      "159\n",
      "160\n",
      "161\n",
      "162\n",
      "163\n",
      "164\n",
      "165\n",
      "166\n",
      "167\n",
      "168\n",
      "169\n",
      "170\n",
      "171\n",
      "172\n",
      "173\n",
      "174\n",
      "175\n",
      "176\n",
      "177\n",
      "178\n",
      "179\n",
      "180\n",
      "181\n",
      "182\n",
      "183\n",
      "184\n",
      "185\n",
      "186\n",
      "187\n",
      "188\n",
      "189\n",
      "190\n",
      "191\n",
      "192\n",
      "193\n",
      "194\n",
      "195\n",
      "196\n",
      "197\n",
      "198\n",
      "199\n",
      "200\n",
      "201\n",
      "202\n",
      "203\n",
      "204\n",
      "205\n",
      "206\n",
      "207\n",
      "208\n",
      "209\n",
      "210\n",
      "211\n",
      "212\n",
      "213\n",
      "214\n",
      "215\n",
      "216\n",
      "217\n",
      "218\n",
      "219\n",
      "220\n",
      "221\n",
      "222\n",
      "223\n",
      "224\n",
      "225\n",
      "226\n",
      "227\n",
      "228\n",
      "229\n",
      "230\n",
      "231\n",
      "232\n",
      "233\n",
      "234\n",
      "235\n",
      "236\n",
      "237\n",
      "238\n",
      "239\n",
      "240\n",
      "241\n",
      "242\n",
      "243\n",
      "244\n",
      "245\n",
      "246\n",
      "247\n",
      "248\n",
      "249\n",
      "250\n",
      "251\n",
      "252\n",
      "253\n",
      "254\n",
      "255\n",
      "256\n"
     ]
    }
   ],
   "source": [
    "X=[]#Training x\n",
    "Y=[]#Training y\n",
    "progress=0\n",
    "#let's fill these bad boys\n",
    "for card_name in all_cards.name.unique():#At first I'll train on the whole collection\n",
    "    for card_foil in all_cards[all_cards.name==card_name].isFoil.unique():\n",
    "        #I'll once again use the fact that the dates are ordered \n",
    "        pseu_df=all_cards[(all_cards.name==card_name)&(all_cards.isFoil==card_foil)].reset_index(drop=True)#This step is technically not needed, but I think this being transparent is worth more\n",
    "        # than the small piece of memory used by holding on to a small dataframe.\n",
    "        #generate days that can contribute:\n",
    "        cont_days=pd.date_range(start=pseu_df.date[0], end=pseu_df.date.values[-1], freq=\"1D\")[5:-6]#these are the days for which I can predict in the training datafor for_which_day in cont_days:\n",
    "        for for_which_day in cont_days:\n",
    "            _, before_prices=fill_n_prev_days(for_which_day, card_name, card_foil,all_cards, 5)#the dates are not needed for now\n",
    "            _, after_prices=fill_n_prev_days(for_which_day+pd.Timedelta(\"5 days\"), card_name, card_foil,all_cards, 5)#the dates are not needed for now\n",
    "            #before_prices=before_prices\n",
    "            X.append(before_prices[:-1]-before_prices[-1])#X is ready - fortunately I don't really need the \"date\" axis for this as these are one day apart each. \n",
    "            #This is a place for obvious improvement both in a sense that I could handle the missing values probably better \n",
    "            #and more data could be passed (e.g. a 0-6 value to mark the day of the week - I still suspect that is important\n",
    "            #- or of course some number representing tournament data, maybe a classification of the card - based on the clustering of #02. )    \n",
    "            mybool=(max(after_prices-before_prices[-1])>0)#I can sell for profit\n",
    "            Y.append(mybool)\n",
    "    progress+=1\n",
    "    print(progress)#This is because it was slooooow"
   ]
  },
  {
   "cell_type": "markdown",
   "metadata": {},
   "source": [
    "Ok, this took a bit longer than it sohuld've (~5 mins). I recognise that it wasn't built with effectiveness in mind - in every instance I have 4 values that are identical to the previous but shifted. This could be resolved even just by using numpy's roll() or something similar. Point is, I wanted to save programming and not computing time when writing the above lines....\n",
    "\n",
    "\n",
    "\n",
    "Now I have my X and Y. I'll train my classification tree. I won't use the whole data for training though, I want to split them into train-test instances just so I can see (and show) something indicating how good my tree is..."
   ]
  },
  {
   "cell_type": "code",
   "execution_count": 11,
   "metadata": {},
   "outputs": [],
   "source": [
    "X=np.array(X)\n",
    "Y=np.array(Y)\n"
   ]
  },
  {
   "cell_type": "code",
   "execution_count": 127,
   "metadata": {},
   "outputs": [],
   "source": [
    "catch=pd.DataFrame(columns=[\"deep\", \"days\", \"score\"])\n",
    "for seed in range(50):\n",
    "    for dt in range(2,8):\n",
    "        for day in range(0,4):\n",
    "            X_train, X_test, Y_train, Y_test = train_test_split(X[:,day:], Y, test_size=0.1, random_state=seed ) #No random state here, I run this bit for a couple of time to see how it changes\n",
    "            classifier = DecisionTreeClassifier(random_state=42, max_depth=dt)#I will try different max depths here until I find a good one\n",
    "            classifier.fit(X_train, Y_train)\n",
    "            point=classifier.score(X_test, Y_test)\n",
    "            catch=catch.append(pd.DataFrame({\"deep\": [dt],\n",
    "                              \"days\": [day],\n",
    "                               \"score\" : [point]}), ignore_index=True)\n"
   ]
  },
  {
   "cell_type": "code",
   "execution_count": 142,
   "metadata": {},
   "outputs": [
    {
     "data": {
      "text/plain": [
       "Text(0, 0.5, 'Mean accuracy')"
      ]
     },
     "execution_count": 142,
     "metadata": {},
     "output_type": "execute_result"
    },
    {
     "data": {
      "image/png": "[encoded data removed]",
      "text/plain": [
       "<Figure size 432x288 with 1 Axes>"
      ]
     },
     "metadata": {
      "needs_background": "light"
     },
     "output_type": "display_data"
    }
   ],
   "source": [
    "for i in catch.days.unique():\n",
    "    used_layers=[]\n",
    "    score=[]\n",
    "    for j in catch.deep.unique():\n",
    "        used_layers.append(j)\n",
    "        score.append(catch[(catch.days==i) & (catch.deep==j)].score.mean())\n",
    "    plt.plot(used_layers, score, label=\"with \"+str(4-i) +\"days\" )\n",
    "plt.legend()\n",
    "plt.title(\"Effectiveness of the neural network as a function of days and layers\")\n",
    "plt.xlabel(\"Layers used\")\n",
    "plt.ylabel(\"Mean accuracy\")"
   ]
  },
  {
   "cell_type": "markdown",
   "metadata": {},
   "source": [
    "This was a bit ad-hoc, but now I can tell a few things. \n",
    "\n",
    "First, it seems that the classifier does overfit a bit as the results fluctuate, but for the overwhelming majority of random states I can conclude that the best result comes from when the classifier gets only the past 3 days of data, and uses 6 layers (This is not just a feature of the randomness, I have seen several - fixed - random states that lead to the same conclusion, but seeing the bigger picture of course reinforces this.)"
   ]
  },
  {
   "cell_type": "code",
   "execution_count": 30,
   "metadata": {},
   "outputs": [
    {
     "data": {
      "text/plain": [
       "(41093, 3)"
      ]
     },
     "execution_count": 30,
     "metadata": {},
     "output_type": "execute_result"
    }
   ],
   "source": [
    "(X[:,1:]).shape # This is the optimal shape"
   ]
  },
  {
   "cell_type": "code",
   "execution_count": 143,
   "metadata": {},
   "outputs": [],
   "source": [
    "X=X[:,1:]"
   ]
  },
  {
   "cell_type": "code",
   "execution_count": 144,
   "metadata": {},
   "outputs": [],
   "source": [
    "\n",
    "X_train, X_test, Y_train, Y_test = train_test_split(X, Y, test_size=0.1, random_state=42)#42... obviously \n"
   ]
  },
  {
   "cell_type": "code",
   "execution_count": 145,
   "metadata": {},
   "outputs": [
    {
     "data": {
      "text/plain": [
       "0.6367396593673966"
      ]
     },
     "execution_count": 145,
     "metadata": {},
     "output_type": "execute_result"
    }
   ],
   "source": [
    "classifier = DecisionTreeClassifier(random_state=42, max_depth=6)#I will try different max depths here until I find a good one\n",
    "classifier.fit(X_train, Y_train)\n",
    "classifier.score(X_test, Y_test)"
   ]
  },
  {
   "cell_type": "code",
   "execution_count": 147,
   "metadata": {
    "scrolled": false
   },
   "outputs": [],
   "source": [
    "#print(export_text(classifier)) #I don't think I need this output"
   ]
  },
  {
   "cell_type": "markdown",
   "metadata": {},
   "source": [
    "This is not a great score... But a start.\n",
    "\n",
    "Time to define the previous functions again (of course with modifications where necessary).\n",
    "\n",
    "First of all, selling will still be controlled by the same selling alg.  - even though I could use the same decision tree to sell (\"If False, sell\") but that might skew the comparison, so maybe in a later stage...\n",
    "\n",
    "This would also raise the problem that for each and every card I would either sell or buy every day (effectively eliminating the \"I can't predict, just don't do anything with this card\" option that should be the overwhelming majority, but that's just in the nature of DT classifiers...) "
   ]
  },
  {
   "cell_type": "code",
   "execution_count": 148,
   "metadata": {},
   "outputs": [
    {
     "data": {
      "text/plain": [
       "Timestamp('2020-03-02 00:00:00')"
      ]
     },
     "execution_count": 148,
     "metadata": {},
     "output_type": "execute_result"
    }
   ],
   "source": [
    "all_cards.date.max()"
   ]
  },
  {
   "cell_type": "code",
   "execution_count": 168,
   "metadata": {},
   "outputs": [],
   "source": [
    "def sell_card(prev, dates, new_price, today, bought_price, bought_date ):\n",
    "    my_bool=False#The greenlight for selling\n",
    "    if bought_price>new_price:#loss_cutting\n",
    "        my_bool=cut_losses(prev, dates, new_price, today, bought_price, bought_date)\n",
    "    elif bought_price<new_price:#Already gained.\n",
    "        my_bool=sell_gain(prev, dates, new_price, today, bought_price, bought_date)\n",
    "    else:#Might've bought a card that won't change for whatever reason... \n",
    "        my_bool=cut_losses(prev, dates, new_price, today, bought_price, bought_date)#I swapped this out, I don't think I wan tthe linear model anymore\n",
    "    return my_bool\n",
    "\n",
    "#These are the most simplistic functions - when I control the buys, and sell immediately when I think it is worth it... or when I've held onto the card for too long\n",
    "def cut_losses(prev, dates, new_price, today, bought_price, bought_date):\n",
    "    #first, If the card is bought very recently, I don't think there is a reason to panic\n",
    " #   print(type(today))\n",
    "  #  print(type(bought_date))\n",
    "    if (today-bought_date).days<5:\n",
    "        return False\n",
    "    else:\n",
    "        return True#the rest is not needed\n",
    "      \n",
    "        \n",
    "    \n",
    "    \n",
    "def sell_gain(prev, dates, new_price, today, bought_price, bought_date):#This comes into play when I already gained value on the card, but might expect to gain more? \n",
    "    return True#This as well\n",
    "\n",
    "    \n",
    "    \n",
    "   \n"
   ]
  },
  {
   "cell_type": "markdown",
   "metadata": {},
   "source": [
    "Now these will be modified a little bit: The buying decision is driven by the tree and the concatenation of today and past data should happen at the start not the end."
   ]
  },
  {
   "cell_type": "code",
   "execution_count": 191,
   "metadata": {},
   "outputs": [],
   "source": [
    "#the functions needed for a day. Now I only need the \"frame\" that calls them\n",
    "\n",
    "def gather_new_day(date):#read all the data for a new day and append it to the rest. Inspired by the data cleaning segment\n",
    "    new_data=glob(\"CSV/*\"+str(date.date())+\"*csv\")\n",
    "    my_obj=pd.DataFrame()\n",
    "    #So... for every day I want to keep only the latest update with that date. (they should be more or less identical in a perfect world,\n",
    "    #but on the off chance that the later one was started manually after a correction - this have happened - I will use the later one.)\n",
    "    latest={}\n",
    "    for item in new_data:#so the idea is that the later timestamp comes later in the list... so this way only the latest will be kept\n",
    "        latest[item.split(\"_\")[0]]=item\n",
    "    new_data=list(latest.values())\n",
    "    #now I can start reading\n",
    "    for sheet in new_data:\n",
    "        cards=pd.read_csv(sheet)\n",
    "        cards=cards[univ_keys]\n",
    "        my_obj=pd.concat([my_obj, cards])\n",
    "    my_obj[\"date\"]=pd.Timestamp(date.date())\n",
    "    return my_obj.reset_index(drop=True)#works as intended\n",
    "    print(\"The data gathering phase have ended\")\n",
    "\n",
    "def fill_5_prev_days(current_day,card_name, card_foil, all_cards ):\n",
    " #   print(type(current_day))\n",
    "    work_with=all_cards.loc[(all_cards.name==card_name) & (all_cards.isFoil==card_foil) & (all_cards.date<current_day)]#though this last shouldn't be an issue\n",
    "    date_list=list(pd.date_range(start=current_day, periods=6, freq=\"-1D\")[1:])#past 5 days\n",
    "    date_list.reverse()#I want ascending order\n",
    "    prices=[]\n",
    "    for one_day in date_list:\n",
    "        if (len(work_with.loc[work_with.date<=one_day, \"fair_price\"].values)==0):\n",
    "            print(card_name+\" has some issues\")\n",
    "        prices.append(work_with.loc[work_with.date<=one_day, \"fair_price\"].values[-1])#this appends the last available price to the day. So if on that day I don't have data, thats no issue.\n",
    "    return [date_list, prices]#works as intended\n",
    "#I'm keeping this function for consistency's sake\n",
    "\n",
    "def sell_cards(all_cards, todays_prices, collection):#no modifications needed here\n",
    "    for idx, row in collection[1].iterrows():\n",
    "        card_now=row[\"name\"]\n",
    "        bought_for=row.Bought_price\n",
    "        bought_when=row.Bought_date\n",
    "        foil=row.isFoil\n",
    "        current_price=todays_prices.loc[(todays_prices[\"name\"]==card_now)&(todays_prices.isFoil==foil),\"fair_price\" ].values[0]\n",
    "        days, prices=fill_5_prev_days(pd.Timestamp(todays_prices.date[0]), card_now, foil, all_cards)#example.date[0] is the current day - basically for the whole \"example\" thing it is the current day so....\n",
    "        days=pd.to_datetime(days)\n",
    "        todays_date=pd.Timestamp(todays_prices.date[0])\n",
    "        sell=sell_card(prices, days, current_price,todays_date, bought_for, bought_when)\n",
    "        if sell: #then sell the card! get the money, remove the card. Here I would say that with this simplistic model if I sell a card, I sell ALL instances of said card.\n",
    "            collection[0]+=current_price*collection[1].loc[(collection[1][\"name\"]==card_now)&(collection[1][\"isFoil\"]==foil), \"Qtty\"].values[0]\n",
    "            collection[1].drop(idx, axis=0, inplace=True)#I can sell cards now!! \n",
    "        else:\n",
    "            collection[1].at[idx, \"Current_price\"]=current_price#Update for analytics reasons.\n",
    "    print(\"The selling phase have ended\")\n",
    "\n",
    "def buy_cards(all_cards, todays_date, collection, predictor_tree, data_depth):#After selling the collection, now let's buy cards! as a rule, I can only buy ONE instance of each card a day...\n",
    "    possible_buys=all_cards[(all_cards.date==todays_date)& (all_cards[\"fair_price\"]>7)]#Now I'll use the green line (as of in notebook #2) at first. The red line would increase the amount of available cards to ~3 times the current (100-120 cards to 300-360)\n",
    "    #But I really don't intend to trade with very cheap cards - the assumption that I get them immediately AND the associated costs are negligible doesn't stand there anymore.\n",
    "    #possible_buys=example[(example.name==\"Spawn of Mayhem\") & (example.isFoil==True)]\n",
    "    for idx, row in possible_buys.iterrows():\n",
    "        card_now=row[\"name\"]\n",
    "        foil=row.isFoil\n",
    "        current_price=row.fair_price\n",
    "        buy_this=False\n",
    "        if len(all_cards.loc[(all_cards[\"name\"]==card_now)&(all_cards.isFoil==foil)])>5:#basically if the set is too new (no data), then don't bother...\n",
    "            days, prices=fill_n_prev_days(pd.Timestamp(todays_date), card_now, foil, all_cards,6)#example.date[0] is the current day - basically for the whole \"example\" thing it is the current day so....\n",
    "            days=pd.to_datetime(days)\n",
    "            prices=np.array(prices[:-1]-prices[-1])\n",
    "            prices=prices[-1*data_depth:].reshape((1,-1))#As I have seen this as the best predictor\n",
    "            buy_this=predictor_tree.predict(prices)[0]\n",
    "        if buy_this:#This part should not be touched... just the decision was changed.\n",
    "            if collection[0]>= current_price:\n",
    "                collection[0]-=current_price#Buy one piece\n",
    "                if len(collection[1].loc[(collection[1][\"name\"]==card_now)&(collection[1].isFoil==foil), \"Qtty\"])==0:#I don't have this card in the collection\n",
    "                    ex_buy=pd.DataFrame({\"name\": [card_now],\n",
    "                                         \"Qtty\": [1],\n",
    "                                          \"isFoil\": [foil],\n",
    "                                          \"Bought_price\": [current_price],\n",
    "                                         \"Current_price\": [current_price],\n",
    "                                        \"Bought_date\": [pd.Timestamp(todays_date)]\n",
    "                                         })\n",
    "                    collection[1]=pd.concat([collection[1], ex_buy], sort=False)\n",
    "                    collection[1].reset_index(drop=True, inplace=True)\n",
    "                else:#I already have at least 1 in my collection oh the price update is ugly, the others are managable...\n",
    "                    collection[1].loc[(collection[1][\"name\"]==card_now)&(collection[1].isFoil==foil), \"Bought_price\"]=(collection[1].loc[(collection[1][\"name\"]==card_now)&(collection[1].isFoil==foil), \"Bought_price\"]*collection[1].loc[(collection[1][\"name\"]==card_now)&(collection[1].isFoil==foil), \"Qtty\"]+current_price)/(collection[1].loc[(collection[1][\"name\"]==card_now)&(collection[1].isFoil==foil), \"Qtty\"]+1)\n",
    "                    collection[1].loc[(collection[1][\"name\"]==card_now)&(collection[1].isFoil==foil), \"Bought_date\"]=pd.Timestamp(todays_date).date()#This is the newest buy of this card\n",
    "                    collection[1].loc[(collection[1][\"name\"]==card_now)&(collection[1].isFoil==foil), \"Qtty\"]+=1\n",
    "            else:\n",
    "                print(card_now + \" Can't be bought because I have no funds\")\n",
    "    print(\"The buying phase have ended\") #and works as intended though it buys a bit extensively - I hope this will not become an issue\n",
    "    \n",
    "def print_gain_or_loss(total):\n",
    "    if total>=500:\n",
    "        return str(round(total-500, 2))+\"$ have been gained\"\n",
    "    elif total<500:\n",
    "        return str(round(500-total, 2))+\"$ have been lost\"#...\n",
    "    \n",
    "def evaluate_the_day(todays_date, collection):\n",
    "    f=open(\"sum_the_strat.csv\", \"a\")\n",
    "    money=collection[0]\n",
    "    foil_cards=collection[1].loc[collection[1].isFoil, \"Qtty\"].sum()\n",
    "    non_foils=collection[1].loc[~(collection[1].isFoil.astype(bool)), \"Qtty\"].sum()#that astype is needed here so I can negate...\n",
    "    card_values=(collection[1][\"Qtty\"]*collection[1][\"Current_price\"]).sum()\n",
    "    print(\"On \"+str(todays_date.date()) +\" the algorithm has \" +str(round(money,2))+\"$ at its disposal, and \" +str(round(card_values,2))+\"$ in card values of \" +str(foil_cards+non_foils) +\" cards. \\n This means that the total value is \"+str(round(money+card_values, 2)) +\"$ and \"+print_gain_or_loss(money+card_values) )#though I could format with f-string formatting, I'm just not used to that yet... (I still have a few habits from py2)\n",
    "    f.write(str(todays_date)+\";\"+str(money)+\";\"+str(card_values)+\";\"+str(foil_cards)+\";\"+str(non_foils)+\"\\n\")\n",
    "    collection[1].to_csv(\"states_of_collection/\"+str(todays_date.date()).replace(\"-\", \"_\")+\"_coll.csv\", index=False)#works as intended - though it would be hard to mess up\n",
    "    \n",
    "def one_day(date, all_cards, collection, predictor_tree, data_depth):#\n",
    "    current_card_prices=gather_new_day(date)\n",
    "    all_cards=pd.concat([all_cards, current_card_prices])\n",
    "    all_cards.reset_index(drop=True, inplace=True)#reset indexes though I suspect this might happen later as well\n",
    "    if len(current_card_prices.index)==0:\n",
    "        print(\"No data for \"+str(date))\n",
    "        return all_cards\n",
    "    sell_cards(all_cards,current_card_prices,collection)\n",
    "    buy_cards(all_cards,date,collection, predictor_tree, data_depth)\n",
    "    evaluate_the_day(date, collection)\n",
    "    print(\"Day_over\")\n",
    "    all_cards.to_csv(\"all_cards_current.csv\", index=False)#Just in case\n",
    "    return all_cards#So it basically runs: \"all_cards=one_day(date, all_cards, collection)    "
   ]
  },
  {
   "cell_type": "code",
   "execution_count": 169,
   "metadata": {},
   "outputs": [],
   "source": [
    "test_run=pd.date_range(\"2020-03-03\", \"2020-05-15\")\n",
    "collection=[500, pd.DataFrame(columns=[\"name\",\"isFoil\", \"Qtty\", \"Bought_price\", \"Current_price\",\"Bought_date\" ])] # this is the object that will get passed around by every function\n",
    "#bought price is average - since that is what I need to exceed in order to sell with a profit...\n",
    "#This was at the start, but from now I will run a different one\n",
    "all_cards=pd.read_csv(\"past_data.csv\")\n",
    "all_cards.date=all_cards.date.astype('datetime64[D]')#this has to happen...\n",
    "#rules_to_buy=[spiked_down, raising_value]\n"
   ]
  },
  {
   "cell_type": "code",
   "execution_count": null,
   "metadata": {},
   "outputs": [],
   "source": [
    "for a_day in test_run:\n",
    "    all_cards=one_day(a_day, all_cards, collection, classifier)"
   ]
  },
  {
   "cell_type": "markdown",
   "metadata": {},
   "source": [
    "I had to shut this down. \n",
    "The tree buys too aggressively (it lives the funds up in 2 days) and then the value fluctuates around +/- 20$. This tree seems incapable of making profit. \n",
    "I would have to make either the Y target more decisive (those 5 days are way too vague it seems) or find a better metric or output. \n"
   ]
  },
  {
   "cell_type": "code",
   "execution_count": 180,
   "metadata": {
    "scrolled": true
   },
   "outputs": [
    {
     "name": "stdout",
     "output_type": "stream",
     "text": [
      "1\n",
      "2\n",
      "3\n",
      "4\n",
      "5\n",
      "6\n",
      "7\n",
      "8\n",
      "9\n",
      "10\n",
      "11\n",
      "12\n",
      "13\n",
      "14\n",
      "15\n",
      "16\n",
      "17\n",
      "18\n",
      "19\n",
      "20\n",
      "21\n",
      "22\n",
      "23\n",
      "24\n",
      "25\n",
      "26\n",
      "27\n",
      "28\n",
      "29\n",
      "30\n",
      "31\n",
      "32\n",
      "33\n",
      "34\n",
      "35\n",
      "36\n",
      "37\n",
      "38\n",
      "39\n",
      "40\n",
      "41\n",
      "42\n",
      "43\n",
      "44\n",
      "45\n",
      "46\n",
      "47\n",
      "48\n",
      "49\n",
      "50\n",
      "51\n",
      "52\n",
      "53\n",
      "54\n",
      "55\n",
      "56\n",
      "57\n",
      "58\n",
      "59\n",
      "60\n",
      "61\n",
      "62\n",
      "63\n",
      "64\n",
      "65\n",
      "66\n",
      "67\n",
      "68\n",
      "69\n",
      "70\n",
      "71\n",
      "72\n",
      "73\n",
      "74\n",
      "75\n",
      "76\n",
      "77\n",
      "78\n",
      "79\n",
      "80\n",
      "81\n",
      "82\n",
      "83\n",
      "84\n",
      "85\n",
      "86\n",
      "87\n",
      "88\n",
      "89\n",
      "90\n",
      "91\n",
      "92\n",
      "93\n",
      "94\n",
      "95\n",
      "96\n",
      "97\n",
      "98\n",
      "99\n",
      "100\n",
      "101\n",
      "102\n",
      "103\n",
      "104\n",
      "105\n",
      "106\n",
      "107\n",
      "108\n",
      "109\n",
      "110\n",
      "111\n",
      "112\n",
      "113\n",
      "114\n",
      "115\n",
      "116\n",
      "117\n",
      "118\n",
      "119\n",
      "120\n",
      "121\n",
      "122\n",
      "123\n",
      "124\n",
      "125\n",
      "126\n",
      "127\n",
      "128\n",
      "129\n",
      "130\n",
      "131\n",
      "132\n",
      "133\n",
      "134\n",
      "135\n",
      "136\n",
      "137\n",
      "138\n",
      "139\n",
      "140\n",
      "141\n",
      "142\n",
      "143\n",
      "144\n",
      "145\n",
      "146\n",
      "147\n",
      "148\n",
      "149\n",
      "150\n",
      "151\n",
      "152\n",
      "153\n",
      "154\n",
      "155\n",
      "156\n",
      "157\n",
      "158\n",
      "159\n",
      "160\n",
      "161\n",
      "162\n",
      "163\n",
      "164\n",
      "165\n",
      "166\n",
      "167\n",
      "168\n",
      "169\n",
      "170\n",
      "171\n",
      "172\n",
      "173\n",
      "174\n",
      "175\n",
      "176\n",
      "177\n",
      "178\n",
      "179\n",
      "180\n",
      "181\n",
      "182\n",
      "183\n",
      "184\n",
      "185\n",
      "186\n",
      "187\n",
      "188\n",
      "189\n",
      "190\n",
      "191\n",
      "192\n",
      "193\n",
      "194\n",
      "195\n",
      "196\n",
      "197\n",
      "198\n",
      "199\n",
      "200\n",
      "201\n",
      "202\n",
      "203\n",
      "204\n",
      "205\n",
      "206\n",
      "207\n",
      "208\n",
      "209\n",
      "210\n",
      "211\n",
      "212\n",
      "213\n",
      "214\n",
      "215\n",
      "216\n",
      "217\n",
      "218\n",
      "219\n",
      "220\n",
      "221\n",
      "222\n",
      "223\n",
      "224\n",
      "225\n",
      "226\n",
      "227\n",
      "228\n",
      "229\n",
      "230\n",
      "231\n",
      "232\n",
      "233\n",
      "234\n",
      "235\n",
      "236\n",
      "237\n",
      "238\n",
      "239\n",
      "240\n",
      "241\n",
      "242\n",
      "243\n",
      "244\n",
      "245\n",
      "246\n",
      "247\n",
      "248\n",
      "249\n",
      "250\n",
      "251\n",
      "252\n",
      "253\n",
      "254\n",
      "255\n",
      "256\n"
     ]
    }
   ],
   "source": [
    "X=[]#Training x\n",
    "Y=[]#Training y\n",
    "progress=0\n",
    "#let's fill these bad boys\n",
    "for card_name in all_cards.name.unique():#At first I'll train on the whole collection\n",
    "    for card_foil in all_cards[all_cards.name==card_name].isFoil.unique():\n",
    "        #I'll once again use the fact that the dates are ordered \n",
    "        pseu_df=all_cards[(all_cards.name==card_name)&(all_cards.isFoil==card_foil)].reset_index(drop=True)#This step is technically not needed, but I think this being transparent is worth more\n",
    "        # than the small piece of memory used by holding on to a small dataframe.\n",
    "        #generate days that can contribute:\n",
    "        cont_days=pd.date_range(start=pseu_df.date[0], end=pseu_df.date.values[-1], freq=\"1D\")[5:-6]#these are the days for which I can predict in the training datafor for_which_day in cont_days:\n",
    "        for for_which_day in cont_days:\n",
    "            _, before_prices=fill_n_prev_days(for_which_day, card_name, card_foil,all_cards, 6)#the dates are not needed for now\n",
    "            _, after_prices=fill_n_prev_days(for_which_day+pd.Timedelta(\"2 days\"), card_name, card_foil,all_cards, 2)#the dates are not needed for now\n",
    "            #I know this includes the current day but that day won't contribute to a 'True' value so...\n",
    "            #before_prices=before_prices#I... have no clue what I wanted here\n",
    "            X.append(before_prices[:-1]-before_prices[-1])#X is ready - fortunately I don't really need the \"date\" axis for this as these are one day apart each. \n",
    "            #This is a place for obvious improvement both in a sense that I could handle the missing values probably better \n",
    "            #and more data could be passed (e.g. a 0-6 value to mark the day of the week - I still suspect that is important\n",
    "            #- or of course some number representing tournament data, maybe a classification of the card - based on the clustering of #02. )    \n",
    "            mybool=(max(after_prices-before_prices[-1])>0)#I can sell for profit\n",
    "            Y.append(mybool)\n",
    "    progress+=1\n",
    "    print(progress)#This is because it was slooooow"
   ]
  },
  {
   "cell_type": "code",
   "execution_count": 187,
   "metadata": {},
   "outputs": [],
   "source": [
    "X=np.array(X)\n",
    "Y=np.array(Y)\n"
   ]
  },
  {
   "cell_type": "code",
   "execution_count": 188,
   "metadata": {},
   "outputs": [],
   "source": [
    "catch=pd.DataFrame(columns=[\"deep\", \"days\", \"score\"])\n",
    "for seed in range(50):\n",
    "    for dt in range(2,8):\n",
    "        for day in range(0,4):\n",
    "            X_train, X_test, Y_train, Y_test = train_test_split(X[:,day:], Y, test_size=0.1, random_state=seed ) #No fixed random state here, I run this bit for a couple of time to see how it changes\n",
    "            classifier = DecisionTreeClassifier(random_state=42, max_depth=dt)#I will try different max depths here until I find a good one\n",
    "            classifier.fit(X_train, Y_train)\n",
    "            point=classifier.score(X_test, Y_test)\n",
    "            catch=catch.append(pd.DataFrame({\"deep\": [dt],\n",
    "                              \"days\": [day],\n",
    "                               \"score\" : [point]}), ignore_index=True)\n"
   ]
  },
  {
   "cell_type": "code",
   "execution_count": 189,
   "metadata": {},
   "outputs": [
    {
     "data": {
      "text/plain": [
       "Text(0, 0.5, 'Mean accuracy')"
      ]
     },
     "execution_count": 189,
     "metadata": {},
     "output_type": "execute_result"
    },
    {
     "data": {
      "image/png": "[encoded data removed]",
      "text/plain": [
       "<Figure size 432x288 with 1 Axes>"
      ]
     },
     "metadata": {
      "needs_background": "light"
     },
     "output_type": "display_data"
    }
   ],
   "source": [
    "for i in catch.days.unique():\n",
    "    used_layers=[]\n",
    "    score=[]\n",
    "    for j in catch.deep.unique():\n",
    "        used_layers.append(j)\n",
    "        score.append(catch[(catch.days==i) & (catch.deep==j)].score.mean())\n",
    "    plt.plot(used_layers, score, label=\"with \"+str(5-i) +\"days\" )\n",
    "plt.legend()\n",
    "plt.title(\"Effectiveness of the neural network as a function of days and layers\")\n",
    "plt.xlabel(\"Layers used\")\n",
    "plt.ylabel(\"Mean accuracy\")"
   ]
  },
  {
   "cell_type": "markdown",
   "metadata": {},
   "source": [
    "This is interesting.\n",
    "By the looks of it more than 2-3 layers tend to overfit for the data (but to be fair, my own functions could be represented as decision trees of about the same depth). I will disregard the 2 days tree (even if with 6+ layers that was the most accurate, that is likely because the others did overfit way too much) and go with the 4 days (orange) since that seems to be my best bet with 3 layers."
   ]
  },
  {
   "cell_type": "code",
   "execution_count": 195,
   "metadata": {},
   "outputs": [],
   "source": [
    "test_run=pd.date_range(\"2020-03-03\", \"2020-05-15\")\n",
    "collection=[500, pd.DataFrame(columns=[\"name\",\"isFoil\", \"Qtty\", \"Bought_price\", \"Current_price\",\"Bought_date\" ])] # this is the object that will get passed around by every function\n",
    "#bought price is average - since that is what I need to exceed in order to sell with a profit...\n",
    "#This was at the start, but from now I will run a different one\n",
    "all_cards=pd.read_csv(\"past_data.csv\")\n",
    "all_cards.date=all_cards.date.astype('datetime64[D]')#this has to happen...\n",
    "#rules_to_buy=[spiked_down, raising_value]\n"
   ]
  },
  {
   "cell_type": "code",
   "execution_count": 197,
   "metadata": {},
   "outputs": [
    {
     "data": {
      "text/plain": [
       "DecisionTreeClassifier(class_weight=None, criterion='gini', max_depth=6,\n",
       "                       max_features=None, max_leaf_nodes=None,\n",
       "                       min_impurity_decrease=0.0, min_impurity_split=None,\n",
       "                       min_samples_leaf=1, min_samples_split=2,\n",
       "                       min_weight_fraction_leaf=0.0, presort=False,\n",
       "                       random_state=42, splitter='best')"
      ]
     },
     "execution_count": 197,
     "metadata": {},
     "output_type": "execute_result"
    }
   ],
   "source": [
    "X_train, X_test, Y_train, Y_test = train_test_split(X[:,-4:], Y, test_size=0.1, random_state=42 ) #tbh I don't think this is needed\n",
    "classifier = DecisionTreeClassifier(random_state=42, max_depth=6)#I will try different max depths here until I find a good one\n",
    "classifier.fit(X[:,-4:], Y)#I'll use the whole sample this time, no point in removing 1/10th of it...\n",
    "#classifier.score(X_test, Y_test)"
   ]
  },
  {
   "cell_type": "code",
   "execution_count": 198,
   "metadata": {
    "scrolled": true
   },
   "outputs": [
    {
     "name": "stdout",
     "output_type": "stream",
     "text": [
      "The selling phase have ended\n",
      "The buying phase have ended\n",
      "On 2020-03-03 the algorithm has 453.11$ at its disposal, and 46.89$ in card values of 2 cards. \n",
      " This means that the total value is 500.0$ and 0.0$ have been gained\n",
      "Day_over\n",
      "The selling phase have ended\n",
      "The buying phase have ended\n",
      "On 2020-03-04 the algorithm has 453.11$ at its disposal, and 46.89$ in card values of 2 cards. \n",
      " This means that the total value is 500.0$ and 0.0$ have been gained\n",
      "Day_over\n",
      "The selling phase have ended\n",
      "The buying phase have ended\n",
      "On 2020-03-05 the algorithm has 481.11$ at its disposal, and 20.49$ in card values of 2 cards. \n",
      " This means that the total value is 501.6$ and 1.6$ have been gained\n",
      "Day_over\n",
      "The selling phase have ended\n",
      "The buying phase have ended\n",
      "On 2020-03-06 the algorithm has 462.08$ at its disposal, and 39.5$ in card values of 3 cards. \n",
      " This means that the total value is 501.58$ and 1.58$ have been gained\n",
      "Day_over\n",
      "The selling phase have ended\n",
      "The buying phase have ended\n",
      "On 2020-03-07 the algorithm has 471.58$ at its disposal, and 31.5$ in card values of 3 cards. \n",
      " This means that the total value is 503.08$ and 3.08$ have been gained\n",
      "Day_over\n",
      "The selling phase have ended\n",
      "The buying phase have ended\n",
      "On 2020-03-08 the algorithm has 464.96$ at its disposal, and 38.45$ in card values of 3 cards. \n",
      " This means that the total value is 503.41$ and 3.41$ have been gained\n",
      "Day_over\n",
      "The selling phase have ended\n",
      "The buying phase have ended\n",
      "On 2020-03-09 the algorithm has 384.35$ at its disposal, and 119.06$ in card values of 7 cards. \n",
      " This means that the total value is 503.41$ and 3.41$ have been gained\n",
      "Day_over\n",
      "The selling phase have ended\n",
      "The buying phase have ended\n",
      "On 2020-03-10 the algorithm has 404.82$ at its disposal, and 98.59$ in card values of 5 cards. \n",
      " This means that the total value is 503.41$ and 3.41$ have been gained\n",
      "Day_over\n",
      "The selling phase have ended\n",
      "The buying phase have ended\n",
      "On 2020-03-11 the algorithm has 306.04$ at its disposal, and 194.76$ in card values of 9 cards. \n",
      " This means that the total value is 500.8$ and 0.8$ have been gained\n",
      "Day_over\n",
      "The selling phase have ended\n",
      "The buying phase have ended\n",
      "On 2020-03-12 the algorithm has 306.04$ at its disposal, and 194.76$ in card values of 9 cards. \n",
      " This means that the total value is 500.8$ and 0.8$ have been gained\n",
      "Day_over\n",
      "The selling phase have ended\n",
      "The buying phase have ended\n",
      "On 2020-03-13 the algorithm has 292.15$ at its disposal, and 204.5$ in card values of 10 cards. \n",
      " This means that the total value is 496.65$ and 3.35$ have been lost\n",
      "Day_over\n",
      "The selling phase have ended\n",
      "The buying phase have ended\n",
      "On 2020-03-14 the algorithm has 332.0$ at its disposal, and 160.41$ in card values of 8 cards. \n",
      " This means that the total value is 492.41$ and 7.59$ have been lost\n",
      "Day_over\n",
      "The selling phase have ended\n",
      "The buying phase have ended\n",
      "On 2020-03-15 the algorithm has 320.46$ at its disposal, and 167.34$ in card values of 9 cards. \n",
      " This means that the total value is 487.8$ and 12.2$ have been lost\n",
      "Day_over\n",
      "The selling phase have ended\n",
      "The buying phase have ended\n",
      "On 2020-03-16 the algorithm has 424.56$ at its disposal, and 64.86$ in card values of 4 cards. \n",
      " This means that the total value is 489.42$ and 10.58$ have been lost\n",
      "Day_over\n",
      "The selling phase have ended\n",
      "The buying phase have ended\n",
      "On 2020-03-17 the algorithm has 404.06$ at its disposal, and 86.37$ in card values of 5 cards. \n",
      " This means that the total value is 490.43$ and 9.57$ have been lost\n",
      "Day_over\n",
      "The selling phase have ended\n",
      "The buying phase have ended\n",
      "On 2020-03-18 the algorithm has 404.06$ at its disposal, and 86.37$ in card values of 5 cards. \n",
      " This means that the total value is 490.43$ and 9.57$ have been lost\n",
      "Day_over\n",
      "The selling phase have ended\n",
      "The buying phase have ended\n",
      "On 2020-03-19 the algorithm has 379.62$ at its disposal, and 114.83$ in card values of 7 cards. \n",
      " This means that the total value is 494.45$ and 5.55$ have been lost\n",
      "Day_over\n",
      "The selling phase have ended\n",
      "The buying phase have ended\n",
      "On 2020-03-20 the algorithm has 379.62$ at its disposal, and 114.83$ in card values of 7 cards. \n",
      " This means that the total value is 494.45$ and 5.55$ have been lost\n",
      "Day_over\n",
      "The selling phase have ended\n",
      "The buying phase have ended\n",
      "On 2020-03-21 the algorithm has 388.94$ at its disposal, and 104.33$ in card values of 7 cards. \n",
      " This means that the total value is 493.27$ and 6.73$ have been lost\n",
      "Day_over\n",
      "The selling phase have ended\n",
      "The buying phase have ended\n",
      "On 2020-03-22 the algorithm has 359.46$ at its disposal, and 131.46$ in card values of 7 cards. \n",
      " This means that the total value is 490.92$ and 9.08$ have been lost\n",
      "Day_over\n",
      "The selling phase have ended\n",
      "The buying phase have ended\n",
      "On 2020-03-23 the algorithm has 289.49$ at its disposal, and 200.7$ in card values of 9 cards. \n",
      " This means that the total value is 490.19$ and 9.81$ have been lost\n",
      "Day_over\n",
      "The selling phase have ended\n",
      "The buying phase have ended\n",
      "On 2020-03-24 the algorithm has 211.63$ at its disposal, and 274.72$ in card values of 7 cards. \n",
      " This means that the total value is 486.35$ and 13.65$ have been lost\n",
      "Day_over\n",
      "The selling phase have ended\n",
      "The buying phase have ended\n",
      "On 2020-03-25 the algorithm has 122.03$ at its disposal, and 357.72$ in card values of 10 cards. \n",
      " This means that the total value is 479.75$ and 20.25$ have been lost\n",
      "Day_over\n",
      "The selling phase have ended\n",
      "Uro, Titan of Nature's Wrath (Extended Art) Can't be bought because I have no funds\n",
      "The buying phase have ended\n",
      "On 2020-03-26 the algorithm has 42.46$ at its disposal, and 424.42$ in card values of 12 cards. \n",
      " This means that the total value is 466.88$ and 33.12$ have been lost\n",
      "Day_over\n",
      "The selling phase have ended\n",
      "Uro, Titan of Nature's Wrath (Extended Art) Can't be bought because I have no funds\n",
      "The buying phase have ended\n",
      "On 2020-03-27 the algorithm has 98.61$ at its disposal, and 382.33$ in card values of 11 cards. \n",
      " This means that the total value is 480.94$ and 19.06$ have been lost\n",
      "Day_over\n",
      "The selling phase have ended\n",
      "The buying phase have ended\n",
      "On 2020-03-28 the algorithm has 208.34$ at its disposal, and 272.6$ in card values of 8 cards. \n",
      " This means that the total value is 480.94$ and 19.06$ have been lost\n",
      "Day_over\n",
      "The selling phase have ended\n",
      "The buying phase have ended\n",
      "On 2020-03-29 the algorithm has 330.3$ at its disposal, and 171.71$ in card values of 14 cards. \n",
      " This means that the total value is 502.01$ and 2.01$ have been gained\n",
      "Day_over\n",
      "The selling phase have ended\n",
      "The buying phase have ended\n",
      "On 2020-03-30 the algorithm has 330.3$ at its disposal, and 171.71$ in card values of 14 cards. \n",
      " This means that the total value is 502.01$ and 2.01$ have been gained\n",
      "Day_over\n",
      "The selling phase have ended\n",
      "The buying phase have ended\n",
      "On 2020-03-31 the algorithm has 363.7$ at its disposal, and 137.39$ in card values of 11 cards. \n",
      " This means that the total value is 501.09$ and 1.09$ have been gained\n",
      "Day_over\n",
      "The selling phase have ended\n",
      "The buying phase have ended\n",
      "On 2020-04-01 the algorithm has 310.67$ at its disposal, and 190.15$ in card values of 10 cards. \n",
      " This means that the total value is 500.82$ and 0.82$ have been gained\n",
      "Day_over\n",
      "The selling phase have ended\n",
      "The buying phase have ended\n",
      "On 2020-04-02 the algorithm has 310.67$ at its disposal, and 187.14$ in card values of 10 cards. \n",
      " This means that the total value is 497.81$ and 2.19$ have been lost\n",
      "Day_over\n",
      "The selling phase have ended\n",
      "The buying phase have ended\n",
      "On 2020-04-03 the algorithm has 304.29$ at its disposal, and 182.68$ in card values of 5 cards. \n",
      " This means that the total value is 486.97$ and 13.03$ have been lost\n",
      "Day_over\n",
      "The selling phase have ended\n",
      "The buying phase have ended\n",
      "On 2020-04-04 the algorithm has 411.94$ at its disposal, and 106.1$ in card values of 7 cards. \n",
      " This means that the total value is 518.04$ and 18.04$ have been gained\n",
      "Day_over\n",
      "The selling phase have ended\n",
      "The buying phase have ended\n",
      "On 2020-04-05 the algorithm has 475.06$ at its disposal, and 48.13$ in card values of 4 cards. \n",
      " This means that the total value is 523.19$ and 23.19$ have been gained\n",
      "Day_over\n",
      "The selling phase have ended\n",
      "The buying phase have ended\n",
      "On 2020-04-06 the algorithm has 464.06$ at its disposal, and 59.15$ in card values of 5 cards. \n",
      " This means that the total value is 523.21$ and 23.21$ have been gained\n",
      "Day_over\n"
     ]
    },
    {
     "name": "stdout",
     "output_type": "stream",
     "text": [
      "The selling phase have ended\n",
      "The buying phase have ended\n",
      "On 2020-04-07 the algorithm has 411.05$ at its disposal, and 111.75$ in card values of 8 cards. \n",
      " This means that the total value is 522.8$ and 22.8$ have been gained\n",
      "Day_over\n",
      "The selling phase have ended\n",
      "The buying phase have ended\n",
      "On 2020-04-08 the algorithm has 398.61$ at its disposal, and 124.65$ in card values of 7 cards. \n",
      " This means that the total value is 523.26$ and 23.26$ have been gained\n",
      "Day_over\n",
      "The selling phase have ended\n",
      "The buying phase have ended\n",
      "On 2020-04-09 the algorithm has 443.06$ at its disposal, and 83.76$ in card values of 5 cards. \n",
      " This means that the total value is 526.82$ and 26.82$ have been gained\n",
      "Day_over\n",
      "The selling phase have ended\n",
      "The buying phase have ended\n",
      "On 2020-04-10 the algorithm has 321.9$ at its disposal, and 193.03$ in card values of 8 cards. \n",
      " This means that the total value is 514.93$ and 14.93$ have been gained\n",
      "Day_over\n",
      "The selling phase have ended\n",
      "The buying phase have ended\n",
      "On 2020-04-11 the algorithm has 212.48$ at its disposal, and 298.55$ in card values of 10 cards. \n",
      " This means that the total value is 511.03$ and 11.03$ have been gained\n",
      "Day_over\n",
      "The selling phase have ended\n",
      "The buying phase have ended\n",
      "On 2020-04-12 the algorithm has 190.07$ at its disposal, and 320.96$ in card values of 13 cards. \n",
      " This means that the total value is 511.03$ and 11.03$ have been gained\n",
      "Day_over\n",
      "The selling phase have ended\n",
      "The buying phase have ended\n",
      "On 2020-04-13 the algorithm has 502.12$ at its disposal, and 62.61$ in card values of 4 cards. \n",
      " This means that the total value is 564.73$ and 64.73$ have been gained\n",
      "Day_over\n",
      "The selling phase have ended\n",
      "The buying phase have ended\n",
      "On 2020-04-14 the algorithm has 502.12$ at its disposal, and 62.61$ in card values of 4 cards. \n",
      " This means that the total value is 564.73$ and 64.73$ have been gained\n",
      "Day_over\n",
      "The selling phase have ended\n",
      "The buying phase have ended\n",
      "On 2020-04-15 the algorithm has 502.12$ at its disposal, and 62.61$ in card values of 4 cards. \n",
      " This means that the total value is 564.73$ and 64.73$ have been gained\n",
      "Day_over\n"
     ]
    },
    {
     "name": "stderr",
     "output_type": "stream",
     "text": [
      "c:\\users\\domenyb\\appdata\\local\\programs\\python\\python37-32\\lib\\site-packages\\ipykernel_launcher.py:106: FutureWarning: Sorting because non-concatenation axis is not aligned. A future version\n",
      "of pandas will change to not sort by default.\n",
      "\n",
      "To accept the future behavior, pass 'sort=False'.\n",
      "\n",
      "To retain the current behavior and silence the warning, pass 'sort=True'.\n",
      "\n"
     ]
    },
    {
     "name": "stdout",
     "output_type": "stream",
     "text": [
      "No data for 2020-04-16 00:00:00\n",
      "The selling phase have ended\n",
      "The buying phase have ended\n",
      "On 2020-04-17 the algorithm has 552.74$ at its disposal, and 11.99$ in card values of 1 cards. \n",
      " This means that the total value is 564.73$ and 64.73$ have been gained\n",
      "Day_over\n"
     ]
    },
    {
     "name": "stderr",
     "output_type": "stream",
     "text": [
      "c:\\users\\domenyb\\appdata\\local\\programs\\python\\python37-32\\lib\\site-packages\\ipykernel_launcher.py:106: FutureWarning: Sorting because non-concatenation axis is not aligned. A future version\n",
      "of pandas will change to not sort by default.\n",
      "\n",
      "To accept the future behavior, pass 'sort=False'.\n",
      "\n",
      "To retain the current behavior and silence the warning, pass 'sort=True'.\n",
      "\n"
     ]
    },
    {
     "name": "stdout",
     "output_type": "stream",
     "text": [
      "The selling phase have ended\n",
      "The buying phase have ended\n",
      "On 2020-04-18 the algorithm has 552.83$ at its disposal, and 12.57$ in card values of 1 cards. \n",
      " This means that the total value is 565.4$ and 65.4$ have been gained\n",
      "Day_over\n"
     ]
    },
    {
     "name": "stderr",
     "output_type": "stream",
     "text": [
      "c:\\users\\domenyb\\appdata\\local\\programs\\python\\python37-32\\lib\\site-packages\\ipykernel_launcher.py:106: FutureWarning: Sorting because non-concatenation axis is not aligned. A future version\n",
      "of pandas will change to not sort by default.\n",
      "\n",
      "To accept the future behavior, pass 'sort=False'.\n",
      "\n",
      "To retain the current behavior and silence the warning, pass 'sort=True'.\n",
      "\n"
     ]
    },
    {
     "name": "stdout",
     "output_type": "stream",
     "text": [
      "The selling phase have ended\n",
      "The buying phase have ended\n",
      "On 2020-04-19 the algorithm has 552.83$ at its disposal, and 12.57$ in card values of 1 cards. \n",
      " This means that the total value is 565.4$ and 65.4$ have been gained\n",
      "Day_over\n"
     ]
    },
    {
     "name": "stderr",
     "output_type": "stream",
     "text": [
      "c:\\users\\domenyb\\appdata\\local\\programs\\python\\python37-32\\lib\\site-packages\\ipykernel_launcher.py:106: FutureWarning: Sorting because non-concatenation axis is not aligned. A future version\n",
      "of pandas will change to not sort by default.\n",
      "\n",
      "To accept the future behavior, pass 'sort=False'.\n",
      "\n",
      "To retain the current behavior and silence the warning, pass 'sort=True'.\n",
      "\n"
     ]
    },
    {
     "name": "stdout",
     "output_type": "stream",
     "text": [
      "The selling phase have ended\n",
      "The buying phase have ended\n",
      "On 2020-04-20 the algorithm has 505.89$ at its disposal, and 59.51$ in card values of 2 cards. \n",
      " This means that the total value is 565.4$ and 65.4$ have been gained\n",
      "Day_over\n"
     ]
    },
    {
     "name": "stderr",
     "output_type": "stream",
     "text": [
      "c:\\users\\domenyb\\appdata\\local\\programs\\python\\python37-32\\lib\\site-packages\\ipykernel_launcher.py:106: FutureWarning: Sorting because non-concatenation axis is not aligned. A future version\n",
      "of pandas will change to not sort by default.\n",
      "\n",
      "To accept the future behavior, pass 'sort=False'.\n",
      "\n",
      "To retain the current behavior and silence the warning, pass 'sort=True'.\n",
      "\n"
     ]
    },
    {
     "name": "stdout",
     "output_type": "stream",
     "text": [
      "The selling phase have ended\n",
      "The buying phase have ended\n",
      "On 2020-04-21 the algorithm has 505.89$ at its disposal, and 59.51$ in card values of 2 cards. \n",
      " This means that the total value is 565.4$ and 65.4$ have been gained\n",
      "Day_over\n"
     ]
    },
    {
     "name": "stderr",
     "output_type": "stream",
     "text": [
      "c:\\users\\domenyb\\appdata\\local\\programs\\python\\python37-32\\lib\\site-packages\\ipykernel_launcher.py:106: FutureWarning: Sorting because non-concatenation axis is not aligned. A future version\n",
      "of pandas will change to not sort by default.\n",
      "\n",
      "To accept the future behavior, pass 'sort=False'.\n",
      "\n",
      "To retain the current behavior and silence the warning, pass 'sort=True'.\n",
      "\n"
     ]
    },
    {
     "name": "stdout",
     "output_type": "stream",
     "text": [
      "The selling phase have ended\n",
      "The buying phase have ended\n",
      "On 2020-04-22 the algorithm has 505.89$ at its disposal, and 59.51$ in card values of 2 cards. \n",
      " This means that the total value is 565.4$ and 65.4$ have been gained\n",
      "Day_over\n"
     ]
    },
    {
     "name": "stderr",
     "output_type": "stream",
     "text": [
      "c:\\users\\domenyb\\appdata\\local\\programs\\python\\python37-32\\lib\\site-packages\\ipykernel_launcher.py:106: FutureWarning: Sorting because non-concatenation axis is not aligned. A future version\n",
      "of pandas will change to not sort by default.\n",
      "\n",
      "To accept the future behavior, pass 'sort=False'.\n",
      "\n",
      "To retain the current behavior and silence the warning, pass 'sort=True'.\n",
      "\n"
     ]
    },
    {
     "name": "stdout",
     "output_type": "stream",
     "text": [
      "The selling phase have ended\n",
      "The buying phase have ended\n",
      "On 2020-04-23 the algorithm has 518.46$ at its disposal, and 46.94$ in card values of 1 cards. \n",
      " This means that the total value is 565.4$ and 65.4$ have been gained\n",
      "Day_over\n"
     ]
    },
    {
     "name": "stderr",
     "output_type": "stream",
     "text": [
      "c:\\users\\domenyb\\appdata\\local\\programs\\python\\python37-32\\lib\\site-packages\\ipykernel_launcher.py:106: FutureWarning: Sorting because non-concatenation axis is not aligned. A future version\n",
      "of pandas will change to not sort by default.\n",
      "\n",
      "To accept the future behavior, pass 'sort=False'.\n",
      "\n",
      "To retain the current behavior and silence the warning, pass 'sort=True'.\n",
      "\n"
     ]
    },
    {
     "name": "stdout",
     "output_type": "stream",
     "text": [
      "The selling phase have ended\n",
      "The buying phase have ended\n",
      "On 2020-04-24 the algorithm has 518.46$ at its disposal, and 46.94$ in card values of 1 cards. \n",
      " This means that the total value is 565.4$ and 65.4$ have been gained\n",
      "Day_over\n"
     ]
    },
    {
     "name": "stderr",
     "output_type": "stream",
     "text": [
      "c:\\users\\domenyb\\appdata\\local\\programs\\python\\python37-32\\lib\\site-packages\\ipykernel_launcher.py:106: FutureWarning: Sorting because non-concatenation axis is not aligned. A future version\n",
      "of pandas will change to not sort by default.\n",
      "\n",
      "To accept the future behavior, pass 'sort=False'.\n",
      "\n",
      "To retain the current behavior and silence the warning, pass 'sort=True'.\n",
      "\n"
     ]
    },
    {
     "name": "stdout",
     "output_type": "stream",
     "text": [
      "The selling phase have ended\n",
      "The buying phase have ended\n",
      "On 2020-04-25 the algorithm has 565.4$ at its disposal, and 0$ in card values of 0 cards. \n",
      " This means that the total value is 565.4$ and 65.4$ have been gained\n",
      "Day_over\n"
     ]
    },
    {
     "name": "stderr",
     "output_type": "stream",
     "text": [
      "c:\\users\\domenyb\\appdata\\local\\programs\\python\\python37-32\\lib\\site-packages\\ipykernel_launcher.py:106: FutureWarning: Sorting because non-concatenation axis is not aligned. A future version\n",
      "of pandas will change to not sort by default.\n",
      "\n",
      "To accept the future behavior, pass 'sort=False'.\n",
      "\n",
      "To retain the current behavior and silence the warning, pass 'sort=True'.\n",
      "\n"
     ]
    },
    {
     "name": "stdout",
     "output_type": "stream",
     "text": [
      "The selling phase have ended\n",
      "The buying phase have ended\n",
      "On 2020-04-26 the algorithm has 533.41$ at its disposal, and 31.99$ in card values of 1 cards. \n",
      " This means that the total value is 565.4$ and 65.4$ have been gained\n",
      "Day_over\n"
     ]
    },
    {
     "name": "stderr",
     "output_type": "stream",
     "text": [
      "c:\\users\\domenyb\\appdata\\local\\programs\\python\\python37-32\\lib\\site-packages\\ipykernel_launcher.py:106: FutureWarning: Sorting because non-concatenation axis is not aligned. A future version\n",
      "of pandas will change to not sort by default.\n",
      "\n",
      "To accept the future behavior, pass 'sort=False'.\n",
      "\n",
      "To retain the current behavior and silence the warning, pass 'sort=True'.\n",
      "\n"
     ]
    },
    {
     "name": "stdout",
     "output_type": "stream",
     "text": [
      "The selling phase have ended\n",
      "The buying phase have ended\n",
      "On 2020-04-27 the algorithm has 519.16$ at its disposal, and 46.24$ in card values of 2 cards. \n",
      " This means that the total value is 565.4$ and 65.4$ have been gained\n",
      "Day_over\n"
     ]
    },
    {
     "name": "stderr",
     "output_type": "stream",
     "text": [
      "c:\\users\\domenyb\\appdata\\local\\programs\\python\\python37-32\\lib\\site-packages\\ipykernel_launcher.py:106: FutureWarning: Sorting because non-concatenation axis is not aligned. A future version\n",
      "of pandas will change to not sort by default.\n",
      "\n",
      "To accept the future behavior, pass 'sort=False'.\n",
      "\n",
      "To retain the current behavior and silence the warning, pass 'sort=True'.\n",
      "\n"
     ]
    },
    {
     "name": "stdout",
     "output_type": "stream",
     "text": [
      "The selling phase have ended\n",
      "The buying phase have ended\n",
      "On 2020-04-28 the algorithm has 500.76$ at its disposal, and 64.75$ in card values of 2 cards. \n",
      " This means that the total value is 565.51$ and 65.51$ have been gained\n",
      "Day_over\n"
     ]
    },
    {
     "name": "stderr",
     "output_type": "stream",
     "text": [
      "c:\\users\\domenyb\\appdata\\local\\programs\\python\\python37-32\\lib\\site-packages\\ipykernel_launcher.py:106: FutureWarning: Sorting because non-concatenation axis is not aligned. A future version\n",
      "of pandas will change to not sort by default.\n",
      "\n",
      "To accept the future behavior, pass 'sort=False'.\n",
      "\n",
      "To retain the current behavior and silence the warning, pass 'sort=True'.\n",
      "\n"
     ]
    },
    {
     "name": "stdout",
     "output_type": "stream",
     "text": [
      "The selling phase have ended\n",
      "The buying phase have ended\n",
      "On 2020-04-29 the algorithm has 427.33$ at its disposal, and 138.17$ in card values of 6 cards. \n",
      " This means that the total value is 565.5$ and 65.5$ have been gained\n",
      "Day_over\n"
     ]
    },
    {
     "name": "stderr",
     "output_type": "stream",
     "text": [
      "c:\\users\\domenyb\\appdata\\local\\programs\\python\\python37-32\\lib\\site-packages\\ipykernel_launcher.py:106: FutureWarning: Sorting because non-concatenation axis is not aligned. A future version\n",
      "of pandas will change to not sort by default.\n",
      "\n",
      "To accept the future behavior, pass 'sort=False'.\n",
      "\n",
      "To retain the current behavior and silence the warning, pass 'sort=True'.\n",
      "\n"
     ]
    },
    {
     "name": "stdout",
     "output_type": "stream",
     "text": [
      "The selling phase have ended\n",
      "The buying phase have ended\n",
      "On 2020-04-30 the algorithm has 394.33$ at its disposal, and 171.17$ in card values of 7 cards. \n",
      " This means that the total value is 565.5$ and 65.5$ have been gained\n",
      "Day_over\n"
     ]
    },
    {
     "name": "stderr",
     "output_type": "stream",
     "text": [
      "c:\\users\\domenyb\\appdata\\local\\programs\\python\\python37-32\\lib\\site-packages\\ipykernel_launcher.py:106: FutureWarning: Sorting because non-concatenation axis is not aligned. A future version\n",
      "of pandas will change to not sort by default.\n",
      "\n",
      "To accept the future behavior, pass 'sort=False'.\n",
      "\n",
      "To retain the current behavior and silence the warning, pass 'sort=True'.\n",
      "\n"
     ]
    },
    {
     "name": "stdout",
     "output_type": "stream",
     "text": [
      "The selling phase have ended\n",
      "The buying phase have ended\n",
      "On 2020-05-01 the algorithm has 533.27$ at its disposal, and 36.31$ in card values of 2 cards. \n",
      " This means that the total value is 569.58$ and 69.58$ have been gained\n",
      "Day_over\n"
     ]
    },
    {
     "name": "stderr",
     "output_type": "stream",
     "text": [
      "c:\\users\\domenyb\\appdata\\local\\programs\\python\\python37-32\\lib\\site-packages\\ipykernel_launcher.py:106: FutureWarning: Sorting because non-concatenation axis is not aligned. A future version\n",
      "of pandas will change to not sort by default.\n",
      "\n",
      "To accept the future behavior, pass 'sort=False'.\n",
      "\n",
      "To retain the current behavior and silence the warning, pass 'sort=True'.\n",
      "\n"
     ]
    },
    {
     "name": "stdout",
     "output_type": "stream",
     "text": [
      "The selling phase have ended\n",
      "The buying phase have ended\n",
      "On 2020-05-02 the algorithm has 533.27$ at its disposal, and 36.31$ in card values of 2 cards. \n",
      " This means that the total value is 569.58$ and 69.58$ have been gained\n",
      "Day_over\n"
     ]
    },
    {
     "name": "stderr",
     "output_type": "stream",
     "text": [
      "c:\\users\\domenyb\\appdata\\local\\programs\\python\\python37-32\\lib\\site-packages\\ipykernel_launcher.py:106: FutureWarning: Sorting because non-concatenation axis is not aligned. A future version\n",
      "of pandas will change to not sort by default.\n",
      "\n",
      "To accept the future behavior, pass 'sort=False'.\n",
      "\n",
      "To retain the current behavior and silence the warning, pass 'sort=True'.\n",
      "\n"
     ]
    },
    {
     "name": "stdout",
     "output_type": "stream",
     "text": [
      "The selling phase have ended\n",
      "The buying phase have ended\n",
      "On 2020-05-03 the algorithm has 439.19$ at its disposal, and 132.01$ in card values of 6 cards. \n",
      " This means that the total value is 571.2$ and 71.2$ have been gained\n",
      "Day_over\n"
     ]
    },
    {
     "name": "stderr",
     "output_type": "stream",
     "text": [
      "c:\\users\\domenyb\\appdata\\local\\programs\\python\\python37-32\\lib\\site-packages\\ipykernel_launcher.py:106: FutureWarning: Sorting because non-concatenation axis is not aligned. A future version\n",
      "of pandas will change to not sort by default.\n",
      "\n",
      "To accept the future behavior, pass 'sort=False'.\n",
      "\n",
      "To retain the current behavior and silence the warning, pass 'sort=True'.\n",
      "\n"
     ]
    },
    {
     "name": "stdout",
     "output_type": "stream",
     "text": [
      "The selling phase have ended\n",
      "The buying phase have ended\n",
      "On 2020-05-04 the algorithm has 453.84$ at its disposal, and 117.36$ in card values of 5 cards. \n",
      " This means that the total value is 571.2$ and 71.2$ have been gained\n",
      "Day_over\n"
     ]
    },
    {
     "name": "stderr",
     "output_type": "stream",
     "text": [
      "c:\\users\\domenyb\\appdata\\local\\programs\\python\\python37-32\\lib\\site-packages\\ipykernel_launcher.py:106: FutureWarning: Sorting because non-concatenation axis is not aligned. A future version\n",
      "of pandas will change to not sort by default.\n",
      "\n",
      "To accept the future behavior, pass 'sort=False'.\n",
      "\n",
      "To retain the current behavior and silence the warning, pass 'sort=True'.\n",
      "\n"
     ]
    },
    {
     "name": "stdout",
     "output_type": "stream",
     "text": [
      "The selling phase have ended\n",
      "The buying phase have ended\n",
      "On 2020-05-05 the algorithm has 250.83$ at its disposal, and 318.78$ in card values of 5 cards. \n",
      " This means that the total value is 569.61$ and 69.61$ have been gained\n",
      "Day_over\n"
     ]
    },
    {
     "name": "stderr",
     "output_type": "stream",
     "text": [
      "c:\\users\\domenyb\\appdata\\local\\programs\\python\\python37-32\\lib\\site-packages\\ipykernel_launcher.py:106: FutureWarning: Sorting because non-concatenation axis is not aligned. A future version\n",
      "of pandas will change to not sort by default.\n",
      "\n",
      "To accept the future behavior, pass 'sort=False'.\n",
      "\n",
      "To retain the current behavior and silence the warning, pass 'sort=True'.\n",
      "\n"
     ]
    },
    {
     "name": "stdout",
     "output_type": "stream",
     "text": [
      "The selling phase have ended\n",
      "The buying phase have ended\n",
      "On 2020-05-06 the algorithm has 28.83$ at its disposal, and 540.78$ in card values of 6 cards. \n",
      " This means that the total value is 569.61$ and 69.61$ have been gained\n",
      "Day_over\n"
     ]
    },
    {
     "name": "stderr",
     "output_type": "stream",
     "text": [
      "c:\\users\\domenyb\\appdata\\local\\programs\\python\\python37-32\\lib\\site-packages\\ipykernel_launcher.py:106: FutureWarning: Sorting because non-concatenation axis is not aligned. A future version\n",
      "of pandas will change to not sort by default.\n",
      "\n",
      "To accept the future behavior, pass 'sort=False'.\n",
      "\n",
      "To retain the current behavior and silence the warning, pass 'sort=True'.\n",
      "\n"
     ]
    },
    {
     "name": "stdout",
     "output_type": "stream",
     "text": [
      "The selling phase have ended\n",
      "Nyxbloom Ancient (Extended Art) Can't be bought because I have no funds\n",
      "Uro, Titan of Nature's Wrath (Extended Art) Can't be bought because I have no funds\n",
      "The buying phase have ended\n",
      "On 2020-05-07 the algorithm has 23.81$ at its disposal, and 452.01$ in card values of 8 cards. \n",
      " This means that the total value is 475.82$ and 24.18$ have been lost\n",
      "Day_over\n"
     ]
    },
    {
     "name": "stderr",
     "output_type": "stream",
     "text": [
      "c:\\users\\domenyb\\appdata\\local\\programs\\python\\python37-32\\lib\\site-packages\\ipykernel_launcher.py:106: FutureWarning: Sorting because non-concatenation axis is not aligned. A future version\n",
      "of pandas will change to not sort by default.\n",
      "\n",
      "To accept the future behavior, pass 'sort=False'.\n",
      "\n",
      "To retain the current behavior and silence the warning, pass 'sort=True'.\n",
      "\n"
     ]
    },
    {
     "name": "stdout",
     "output_type": "stream",
     "text": [
      "The selling phase have ended\n",
      "The buying phase have ended\n",
      "On 2020-05-08 the algorithm has 45.59$ at its disposal, and 535.81$ in card values of 7 cards. \n",
      " This means that the total value is 581.4$ and 81.4$ have been gained\n",
      "Day_over\n"
     ]
    },
    {
     "name": "stderr",
     "output_type": "stream",
     "text": [
      "c:\\users\\domenyb\\appdata\\local\\programs\\python\\python37-32\\lib\\site-packages\\ipykernel_launcher.py:106: FutureWarning: Sorting because non-concatenation axis is not aligned. A future version\n",
      "of pandas will change to not sort by default.\n",
      "\n",
      "To accept the future behavior, pass 'sort=False'.\n",
      "\n",
      "To retain the current behavior and silence the warning, pass 'sort=True'.\n",
      "\n"
     ]
    },
    {
     "name": "stdout",
     "output_type": "stream",
     "text": [
      "The selling phase have ended\n",
      "The buying phase have ended\n",
      "On 2020-05-09 the algorithm has 45.59$ at its disposal, and 535.81$ in card values of 7 cards. \n",
      " This means that the total value is 581.4$ and 81.4$ have been gained\n",
      "Day_over\n"
     ]
    },
    {
     "name": "stderr",
     "output_type": "stream",
     "text": [
      "c:\\users\\domenyb\\appdata\\local\\programs\\python\\python37-32\\lib\\site-packages\\ipykernel_launcher.py:106: FutureWarning: Sorting because non-concatenation axis is not aligned. A future version\n",
      "of pandas will change to not sort by default.\n",
      "\n",
      "To accept the future behavior, pass 'sort=False'.\n",
      "\n",
      "To retain the current behavior and silence the warning, pass 'sort=True'.\n",
      "\n"
     ]
    },
    {
     "name": "stdout",
     "output_type": "stream",
     "text": [
      "The selling phase have ended\n",
      "Uro, Titan of Nature's Wrath Can't be bought because I have no funds\n",
      "The buying phase have ended\n",
      "On 2020-05-10 the algorithm has 34.0$ at its disposal, and 552.69$ in card values of 7 cards. \n",
      " This means that the total value is 586.69$ and 86.69$ have been gained\n",
      "Day_over\n"
     ]
    },
    {
     "name": "stderr",
     "output_type": "stream",
     "text": [
      "c:\\users\\domenyb\\appdata\\local\\programs\\python\\python37-32\\lib\\site-packages\\ipykernel_launcher.py:106: FutureWarning: Sorting because non-concatenation axis is not aligned. A future version\n",
      "of pandas will change to not sort by default.\n",
      "\n",
      "To accept the future behavior, pass 'sort=False'.\n",
      "\n",
      "To retain the current behavior and silence the warning, pass 'sort=True'.\n",
      "\n"
     ]
    },
    {
     "name": "stdout",
     "output_type": "stream",
     "text": [
      "The selling phase have ended\n",
      "The buying phase have ended\n",
      "On 2020-05-11 the algorithm has 499.52$ at its disposal, and 91.54$ in card values of 3 cards. \n",
      " This means that the total value is 591.06$ and 91.06$ have been gained\n",
      "Day_over\n"
     ]
    },
    {
     "name": "stderr",
     "output_type": "stream",
     "text": [
      "c:\\users\\domenyb\\appdata\\local\\programs\\python\\python37-32\\lib\\site-packages\\ipykernel_launcher.py:106: FutureWarning: Sorting because non-concatenation axis is not aligned. A future version\n",
      "of pandas will change to not sort by default.\n",
      "\n",
      "To accept the future behavior, pass 'sort=False'.\n",
      "\n",
      "To retain the current behavior and silence the warning, pass 'sort=True'.\n",
      "\n"
     ]
    },
    {
     "name": "stdout",
     "output_type": "stream",
     "text": [
      "The selling phase have ended\n",
      "The buying phase have ended\n",
      "On 2020-05-12 the algorithm has 468.69$ at its disposal, and 122.37$ in card values of 4 cards. \n",
      " This means that the total value is 591.06$ and 91.06$ have been gained\n",
      "Day_over\n"
     ]
    },
    {
     "name": "stderr",
     "output_type": "stream",
     "text": [
      "c:\\users\\domenyb\\appdata\\local\\programs\\python\\python37-32\\lib\\site-packages\\ipykernel_launcher.py:106: FutureWarning: Sorting because non-concatenation axis is not aligned. A future version\n",
      "of pandas will change to not sort by default.\n",
      "\n",
      "To accept the future behavior, pass 'sort=False'.\n",
      "\n",
      "To retain the current behavior and silence the warning, pass 'sort=True'.\n",
      "\n"
     ]
    },
    {
     "name": "stdout",
     "output_type": "stream",
     "text": [
      "The selling phase have ended\n",
      "The buying phase have ended\n",
      "On 2020-05-13 the algorithm has 243.17$ at its disposal, and 351.09$ in card values of 7 cards. \n",
      " This means that the total value is 594.26$ and 94.26$ have been gained\n",
      "Day_over\n"
     ]
    },
    {
     "name": "stderr",
     "output_type": "stream",
     "text": [
      "c:\\users\\domenyb\\appdata\\local\\programs\\python\\python37-32\\lib\\site-packages\\ipykernel_launcher.py:106: FutureWarning: Sorting because non-concatenation axis is not aligned. A future version\n",
      "of pandas will change to not sort by default.\n",
      "\n",
      "To accept the future behavior, pass 'sort=False'.\n",
      "\n",
      "To retain the current behavior and silence the warning, pass 'sort=True'.\n",
      "\n"
     ]
    },
    {
     "name": "stdout",
     "output_type": "stream",
     "text": [
      "The selling phase have ended\n",
      "The buying phase have ended\n",
      "On 2020-05-14 the algorithm has 48.18$ at its disposal, and 546.08$ in card values of 8 cards. \n",
      " This means that the total value is 594.26$ and 94.26$ have been gained\n",
      "Day_over\n"
     ]
    },
    {
     "name": "stderr",
     "output_type": "stream",
     "text": [
      "c:\\users\\domenyb\\appdata\\local\\programs\\python\\python37-32\\lib\\site-packages\\ipykernel_launcher.py:106: FutureWarning: Sorting because non-concatenation axis is not aligned. A future version\n",
      "of pandas will change to not sort by default.\n",
      "\n",
      "To accept the future behavior, pass 'sort=False'.\n",
      "\n",
      "To retain the current behavior and silence the warning, pass 'sort=True'.\n",
      "\n"
     ]
    },
    {
     "name": "stdout",
     "output_type": "stream",
     "text": [
      "The selling phase have ended\n",
      "Uro, Titan of Nature's Wrath (Extended Art) Can't be bought because I have no funds\n",
      "The buying phase have ended\n",
      "On 2020-05-15 the algorithm has 20.14$ at its disposal, and 574.71$ in card values of 9 cards. \n",
      " This means that the total value is 594.85$ and 94.85$ have been gained\n",
      "Day_over\n"
     ]
    }
   ],
   "source": [
    "for a_day in test_run:\n",
    "    all_cards=one_day(a_day, all_cards, collection, classifier, 4)"
   ]
  },
  {
   "cell_type": "code",
   "execution_count": 199,
   "metadata": {},
   "outputs": [],
   "source": [
    "simple_sell=pd.read_csv(\"buy_upspike_sell_simple.csv\", sep=\";\", names=[\"date\", \"money_available\", \"money_in_cards\", \"#foils\", \"#nonfoils\"])\n",
    "simple_sell.date=simple_sell.date.astype('datetime64[D]')\n",
    "class_tree_buy=pd.read_csv(\"Classifier_tree_buy.csv\", sep=\";\", names=[\"date\", \"money_available\", \"money_in_cards\", \"#foils\", \"#nonfoils\"])\n",
    "class_tree_buy.date=simple_sell.date.astype('datetime64[D]')"
   ]
  },
  {
   "cell_type": "code",
   "execution_count": 202,
   "metadata": {},
   "outputs": [
    {
     "data": {
      "text/plain": [
       "Text(0.5, 1.0, 'Comparison of the manually and the ML-built decision makers. \\n Solid line is the previous buyer, dashed line is the Sklearn tree ')"
      ]
     },
     "execution_count": 202,
     "metadata": {},
     "output_type": "execute_result"
    },
    {
     "data": {
      "image/png": "[encoded data removed]",
      "text/plain": [
       "<Figure size 1152x864 with 1 Axes>"
      ]
     },
     "metadata": {
      "needs_background": "light"
     },
     "output_type": "display_data"
    }
   ],
   "source": [
    "plt.figure(figsize=(16,12))\n",
    "\n",
    "plt.plot(simple_sell.date, simple_sell.money_available+simple_sell.money_in_cards, \"b-\", label=\"All value\")\n",
    "plt.plot(simple_sell.date, simple_sell.money_available, \"g-\", label=\"Money available\")\n",
    "plt.plot(simple_sell.date, simple_sell.money_in_cards, \"y-\", label=\"Invested in cards\")\n",
    "plt.plot(class_tree_buy.date, class_tree_buy.money_available+class_tree_buy.money_in_cards, \"b--\", label=\"_nolegend_\")\n",
    "plt.plot(class_tree_buy.date, class_tree_buy.money_available, \"g--\", label=\"_nolegend_\")\n",
    "plt.plot(class_tree_buy.date, class_tree_buy.money_in_cards, \"y--\", label=\"_nolegend_\")\n",
    "plt.legend()\n",
    "plt.gca().xaxis.set_major_formatter(mdates.DateFormatter('%Y-%m-%d'))\n",
    "plt.gca().xaxis.set_major_locator(mdates.DayLocator(interval=10))\n",
    "plt.gcf().autofmt_xdate()\n",
    "x,y=plt.xlim()\n",
    "plt.plot([x-1, y+1], [500,500], \"r-\", label=\"_nolegend_\")\n",
    "plt.xlim(x,y)\n",
    "plt.xlabel(\"Date\")\n",
    "plt.ylabel(\"Money accumulated\")\n",
    "plt.title (\"Comparison of the manually and the ML-built decision makers. \\n Solid line is the previous buyer, dashed line is the Sklearn tree \")"
   ]
  },
  {
   "cell_type": "markdown",
   "metadata": {},
   "source": [
    "So... While many features tend to be the same - This suggests that the decision tree managed to \"catch on\" to the same or similar pattern I wanted to capture - the decision tree seems to be a somewhat \"shy\" buyer - which is a strong contrast with the previous too aggressive behaviour. \n",
    "\n",
    "As for the future of this project: \n",
    "\n",
    "I think the project itself has great potential in it - especially now with gathering tournament data as well -, and of course there is plenty of room for improvement, including but not limited to:\n",
    "    - the selling function was not really explored, it has a very simplistic form even at the time of writing this.\n",
    "    - even for the buying part I more or less just used the data in its raw form, without implementing any meaningful metrics or even weighing the data.\n",
    "    - Using ADX could probably catch the trends that have proven to be elusive to the simplistic buying function.\n",
    "    - More complicated models could be implemented and tried (LSTM, or some other kind...)\n",
    "    - I have not managed to catch clues regarding inside information - despite this year being the most ban-heavy year of MTG ever. But maybe more refined data could do something with it.\n",
    "    \n",
    "For the above reasons I will not shut the gathering down at the moment, and plan to revisit this project sooner rather than later. But for now I don't think that the time put into this would \"repay itself\" as other projects need my time to be cleaned up and polished, so this is what I have card-tradingwise for now. "
   ]
  },
  {
   "cell_type": "code",
   "execution_count": null,
   "metadata": {},
   "outputs": [],
   "source": []
  },
  {
   "cell_type": "code",
   "execution_count": null,
   "metadata": {},
   "outputs": [],
   "source": []
  }
 ],
 "metadata": {
  "kernelspec": {
   "display_name": "Python 3",
   "language": "python",
   "name": "python3"
  }
 },
 "nbformat": 4,
 "nbformat_minor": 2
}
